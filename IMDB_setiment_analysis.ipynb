{
  "nbformat": 4,
  "nbformat_minor": 0,
  "metadata": {
    "colab": {
      "provenance": [],
      "collapsed_sections": [],
      "authorship_tag": "ABX9TyPGtC/KQAApBcxOGLCoe7UW",
      "include_colab_link": true
    },
    "kernelspec": {
      "name": "python3",
      "display_name": "Python 3"
    },
    "language_info": {
      "name": "python"
    },
    "accelerator": "GPU",
    "gpuClass": "standard"
  },
  "cells": [
    {
      "cell_type": "markdown",
      "metadata": {
        "id": "view-in-github",
        "colab_type": "text"
      },
      "source": [
        "<a href=\"https://colab.research.google.com/github/thrinnadhh/IMDB-sentiment-analysis-using-RNN-LSTM-/blob/main/IMDB_setiment_analysis.ipynb\" target=\"_parent\"><img src=\"https://colab.research.google.com/assets/colab-badge.svg\" alt=\"Open In Colab\"/></a>"
      ]
    },
    {
      "cell_type": "code",
      "execution_count": null,
      "metadata": {
        "id": "SFjK_HMv_8dK"
      },
      "outputs": [],
      "source": [
        "import tensorflow as tf\n",
        "import numpy as np\n",
        "from keras.datasets import imdb\n",
        "from keras.models import Sequential\n",
        "from keras.layers import Dense\n",
        "from keras.layers import LSTM\n",
        "from keras.preprocessing import sequence\n",
        "from keras.layers.embeddings import Embedding\n",
        "np.random.seed(7)"
      ]
    },
    {
      "cell_type": "code",
      "source": [
        "topwords=6000\n",
        "(X_train,Y_train),(X_test,Y_test)=imdb.load_data(num_words=topwords)\n",
        "##As the imdb dataset got sorted out based on the freq so we are taking the top 6000 words into consideration"
      ],
      "metadata": {
        "id": "mlzBzcCyA5aT",
        "colab": {
          "base_uri": "https://localhost:8080/"
        },
        "outputId": "643eeb88-a0b5-4c27-bacd-8eda5a0775a1"
      },
      "execution_count": null,
      "outputs": [
        {
          "output_type": "stream",
          "name": "stdout",
          "text": [
            "Downloading data from https://storage.googleapis.com/tensorflow/tf-keras-datasets/imdb.npz\n",
            "17465344/17464789 [==============================] - 0s 0us/step\n",
            "17473536/17464789 [==============================] - 0s 0us/step\n"
          ]
        }
      ]
    },
    {
      "cell_type": "code",
      "source": [
        "print(X_train[1])\n",
        "print(type(X_train[1]))\n",
        "print(len(X_train))"
      ],
      "metadata": {
        "colab": {
          "base_uri": "https://localhost:8080/"
        },
        "id": "m9emQa_-BPRd",
        "outputId": "d3f1d79f-7471-41cb-fce8-064569dba8a3"
      },
      "execution_count": null,
      "outputs": [
        {
          "output_type": "stream",
          "name": "stdout",
          "text": [
            "[1, 194, 1153, 194, 2, 78, 228, 5, 6, 1463, 4369, 5012, 134, 26, 4, 715, 8, 118, 1634, 14, 394, 20, 13, 119, 954, 189, 102, 5, 207, 110, 3103, 21, 14, 69, 188, 8, 30, 23, 7, 4, 249, 126, 93, 4, 114, 9, 2300, 1523, 5, 647, 4, 116, 9, 35, 2, 4, 229, 9, 340, 1322, 4, 118, 9, 4, 130, 4901, 19, 4, 1002, 5, 89, 29, 952, 46, 37, 4, 455, 9, 45, 43, 38, 1543, 1905, 398, 4, 1649, 26, 2, 5, 163, 11, 3215, 2, 4, 1153, 9, 194, 775, 7, 2, 2, 349, 2637, 148, 605, 2, 2, 15, 123, 125, 68, 2, 2, 15, 349, 165, 4362, 98, 5, 4, 228, 9, 43, 2, 1157, 15, 299, 120, 5, 120, 174, 11, 220, 175, 136, 50, 9, 4373, 228, 2, 5, 2, 656, 245, 2350, 5, 4, 2, 131, 152, 491, 18, 2, 32, 2, 1212, 14, 9, 6, 371, 78, 22, 625, 64, 1382, 9, 8, 168, 145, 23, 4, 1690, 15, 16, 4, 1355, 5, 28, 6, 52, 154, 462, 33, 89, 78, 285, 16, 145, 95]\n",
            "<class 'list'>\n",
            "25000\n"
          ]
        }
      ]
    },
    {
      "cell_type": "code",
      "source": [
        "print(len(X_test))"
      ],
      "metadata": {
        "colab": {
          "base_uri": "https://localhost:8080/"
        },
        "id": "WeybG8cZBoSk",
        "outputId": "da8c0641-0ee0-4066-d6e5-39eca73f6682"
      },
      "execution_count": null,
      "outputs": [
        {
          "output_type": "stream",
          "name": "stdout",
          "text": [
            "25000\n"
          ]
        }
      ]
    },
    {
      "cell_type": "code",
      "source": [
        "max(np.max(X_train))"
      ],
      "metadata": {
        "colab": {
          "base_uri": "https://localhost:8080/"
        },
        "id": "ghxwbaIJBs-n",
        "outputId": "4ea862d6-bd5e-471c-8ca8-5c2e5fbe4a11"
      },
      "execution_count": null,
      "outputs": [
        {
          "output_type": "execute_result",
          "data": {
            "text/plain": [
              "5998"
            ]
          },
          "metadata": {},
          "execution_count": 5
        }
      ]
    },
    {
      "cell_type": "code",
      "source": [
        "##trucate and or pad input sequences\n",
        "##It takes pre padding not the post padding\n",
        "max_review_len=600\n",
        "X_train=sequence.pad_sequences(X_train,maxlen=max_review_len)\n",
        "X_test=sequence.pad_sequences(X_test,maxlen=max_review_len)\n",
        "print(X_train[1])"
      ],
      "metadata": {
        "colab": {
          "base_uri": "https://localhost:8080/"
        },
        "id": "feGXNz0ABxjd",
        "outputId": "39970d17-f485-4a37-af3b-b86022d1f102"
      },
      "execution_count": null,
      "outputs": [
        {
          "output_type": "stream",
          "name": "stdout",
          "text": [
            "[   0    0    0    0    0    0    0    0    0    0    0    0    0    0\n",
            "    0    0    0    0    0    0    0    0    0    0    0    0    0    0\n",
            "    0    0    0    0    0    0    0    0    0    0    0    0    0    0\n",
            "    0    0    0    0    0    0    0    0    0    0    0    0    0    0\n",
            "    0    0    0    0    0    0    0    0    0    0    0    0    0    0\n",
            "    0    0    0    0    0    0    0    0    0    0    0    0    0    0\n",
            "    0    0    0    0    0    0    0    0    0    0    0    0    0    0\n",
            "    0    0    0    0    0    0    0    0    0    0    0    0    0    0\n",
            "    0    0    0    0    0    0    0    0    0    0    0    0    0    0\n",
            "    0    0    0    0    0    0    0    0    0    0    0    0    0    0\n",
            "    0    0    0    0    0    0    0    0    0    0    0    0    0    0\n",
            "    0    0    0    0    0    0    0    0    0    0    0    0    0    0\n",
            "    0    0    0    0    0    0    0    0    0    0    0    0    0    0\n",
            "    0    0    0    0    0    0    0    0    0    0    0    0    0    0\n",
            "    0    0    0    0    0    0    0    0    0    0    0    0    0    0\n",
            "    0    0    0    0    0    0    0    0    0    0    0    0    0    0\n",
            "    0    0    0    0    0    0    0    0    0    0    0    0    0    0\n",
            "    0    0    0    0    0    0    0    0    0    0    0    0    0    0\n",
            "    0    0    0    0    0    0    0    0    0    0    0    0    0    0\n",
            "    0    0    0    0    0    0    0    0    0    0    0    0    0    0\n",
            "    0    0    0    0    0    0    0    0    0    0    0    0    0    0\n",
            "    0    0    0    0    0    0    0    0    0    0    0    0    0    0\n",
            "    0    0    0    0    0    0    0    0    0    0    0    0    0    0\n",
            "    0    0    0    0    0    0    0    0    0    0    0    0    0    0\n",
            "    0    0    0    0    0    0    0    0    0    0    0    0    0    0\n",
            "    0    0    0    0    0    0    0    0    0    0    0    0    0    0\n",
            "    0    0    0    0    0    0    0    0    0    0    0    0    0    0\n",
            "    0    0    0    0    0    0    0    0    0    0    0    0    0    0\n",
            "    0    0    0    0    0    0    0    0    0    0    0    0    0    0\n",
            "    0    0    0    0    0    1  194 1153  194    2   78  228    5    6\n",
            " 1463 4369 5012  134   26    4  715    8  118 1634   14  394   20   13\n",
            "  119  954  189  102    5  207  110 3103   21   14   69  188    8   30\n",
            "   23    7    4  249  126   93    4  114    9 2300 1523    5  647    4\n",
            "  116    9   35    2    4  229    9  340 1322    4  118    9    4  130\n",
            " 4901   19    4 1002    5   89   29  952   46   37    4  455    9   45\n",
            "   43   38 1543 1905  398    4 1649   26    2    5  163   11 3215    2\n",
            "    4 1153    9  194  775    7    2    2  349 2637  148  605    2    2\n",
            "   15  123  125   68    2    2   15  349  165 4362   98    5    4  228\n",
            "    9   43    2 1157   15  299  120    5  120  174   11  220  175  136\n",
            "   50    9 4373  228    2    5    2  656  245 2350    5    4    2  131\n",
            "  152  491   18    2   32    2 1212   14    9    6  371   78   22  625\n",
            "   64 1382    9    8  168  145   23    4 1690   15   16    4 1355    5\n",
            "   28    6   52  154  462   33   89   78  285   16  145   95]\n"
          ]
        }
      ]
    },
    {
      "cell_type": "code",
      "source": [
        "##Create the model\n",
        "model=Sequential()\n",
        "##embedding\n",
        "embedding_vector_length=32\n",
        "##embedding(batch_size,output_length,input_length)\n",
        "model.add(Embedding(topwords,embedding_vector_length,input_length=max_review_len))\n",
        "model.add(LSTM(100))\n",
        "model.add(Dense(1,activation='sigmoid'))\n",
        "model.summary()\n",
        "##params of LSTM are calculated using the formulae(mn+n^2+n)m=inputs,n=outputs"
      ],
      "metadata": {
        "colab": {
          "base_uri": "https://localhost:8080/"
        },
        "id": "7bsdL4UXCLGl",
        "outputId": "07bafecf-bfe1-49fe-8738-df8e6444ff06"
      },
      "execution_count": null,
      "outputs": [
        {
          "output_type": "stream",
          "name": "stdout",
          "text": [
            "Model: \"sequential\"\n",
            "_________________________________________________________________\n",
            " Layer (type)                Output Shape              Param #   \n",
            "=================================================================\n",
            " embedding (Embedding)       (None, 600, 32)           192000    \n",
            "                                                                 \n",
            " lstm (LSTM)                 (None, 100)               53200     \n",
            "                                                                 \n",
            " dense (Dense)               (None, 1)                 101       \n",
            "                                                                 \n",
            "=================================================================\n",
            "Total params: 245,301\n",
            "Trainable params: 245,301\n",
            "Non-trainable params: 0\n",
            "_________________________________________________________________\n"
          ]
        }
      ]
    },
    {
      "cell_type": "code",
      "source": [
        "model.compile(loss='binary_crossentropy',metrics=['accuracy'],optimizer='adam')"
      ],
      "metadata": {
        "id": "kv6jTdtJGUJT"
      },
      "execution_count": null,
      "outputs": []
    },
    {
      "cell_type": "code",
      "source": [
        "history=model.fit(X_train, Y_train, epochs=20, batch_size=64,validation_data=(X_test,Y_test))"
      ],
      "metadata": {
        "colab": {
          "base_uri": "https://localhost:8080/"
        },
        "id": "5_sYqEWRHQ5c",
        "outputId": "57c13c78-57c0-4642-887e-c240327f6041"
      },
      "execution_count": null,
      "outputs": [
        {
          "output_type": "stream",
          "name": "stdout",
          "text": [
            "Epoch 1/20\n",
            "391/391 [==============================] - 20s 52ms/step - loss: 0.0588 - accuracy: 0.9799 - val_loss: 0.6546 - val_accuracy: 0.8456\n",
            "Epoch 2/20\n",
            "391/391 [==============================] - 20s 52ms/step - loss: 0.0541 - accuracy: 0.9841 - val_loss: 0.7330 - val_accuracy: 0.8486\n",
            "Epoch 3/20\n",
            "391/391 [==============================] - 22s 55ms/step - loss: 0.0353 - accuracy: 0.9886 - val_loss: 0.7811 - val_accuracy: 0.8302\n",
            "Epoch 4/20\n",
            "391/391 [==============================] - 20s 52ms/step - loss: 0.0590 - accuracy: 0.9792 - val_loss: 0.7728 - val_accuracy: 0.8517\n",
            "Epoch 5/20\n",
            "391/391 [==============================] - 16s 41ms/step - loss: 0.0297 - accuracy: 0.9909 - val_loss: 0.7930 - val_accuracy: 0.8434\n",
            "Epoch 6/20\n",
            "391/391 [==============================] - 16s 41ms/step - loss: 0.0390 - accuracy: 0.9878 - val_loss: 0.5908 - val_accuracy: 0.8261\n",
            "Epoch 7/20\n",
            "391/391 [==============================] - 16s 41ms/step - loss: 0.0459 - accuracy: 0.9854 - val_loss: 0.7276 - val_accuracy: 0.8466\n",
            "Epoch 8/20\n",
            "391/391 [==============================] - 16s 41ms/step - loss: 0.0186 - accuracy: 0.9951 - val_loss: 0.7150 - val_accuracy: 0.8401\n",
            "Epoch 9/20\n",
            "391/391 [==============================] - 16s 42ms/step - loss: 0.0182 - accuracy: 0.9951 - val_loss: 0.8780 - val_accuracy: 0.8460\n",
            "Epoch 10/20\n",
            "391/391 [==============================] - 17s 42ms/step - loss: 0.0691 - accuracy: 0.9771 - val_loss: 0.7172 - val_accuracy: 0.8510\n",
            "Epoch 11/20\n",
            "391/391 [==============================] - 16s 41ms/step - loss: 0.0122 - accuracy: 0.9966 - val_loss: 0.8425 - val_accuracy: 0.8113\n",
            "Epoch 12/20\n",
            "391/391 [==============================] - 16s 41ms/step - loss: 0.0128 - accuracy: 0.9965 - val_loss: 0.8791 - val_accuracy: 0.8488\n",
            "Epoch 13/20\n",
            "391/391 [==============================] - 16s 41ms/step - loss: 0.0259 - accuracy: 0.9914 - val_loss: 0.8063 - val_accuracy: 0.8369\n",
            "Epoch 14/20\n",
            "391/391 [==============================] - 16s 41ms/step - loss: 0.0348 - accuracy: 0.9893 - val_loss: 0.8255 - val_accuracy: 0.8488\n",
            "Epoch 15/20\n",
            "391/391 [==============================] - 16s 41ms/step - loss: 0.0156 - accuracy: 0.9968 - val_loss: 0.8864 - val_accuracy: 0.8432\n",
            "Epoch 16/20\n",
            "391/391 [==============================] - 16s 41ms/step - loss: 0.0126 - accuracy: 0.9969 - val_loss: 0.8853 - val_accuracy: 0.8482\n",
            "Epoch 17/20\n",
            "391/391 [==============================] - 16s 41ms/step - loss: 0.0122 - accuracy: 0.9964 - val_loss: 1.0239 - val_accuracy: 0.8296\n",
            "Epoch 18/20\n",
            "391/391 [==============================] - 17s 43ms/step - loss: 0.0303 - accuracy: 0.9912 - val_loss: 0.8494 - val_accuracy: 0.8525\n",
            "Epoch 19/20\n",
            "391/391 [==============================] - 16s 41ms/step - loss: 0.0171 - accuracy: 0.9951 - val_loss: 0.8869 - val_accuracy: 0.8386\n",
            "Epoch 20/20\n",
            "391/391 [==============================] - 16s 41ms/step - loss: 0.0171 - accuracy: 0.9950 - val_loss: 0.8579 - val_accuracy: 0.8439\n"
          ]
        }
      ]
    },
    {
      "cell_type": "code",
      "source": [
        "score=model.evaluate(X_test,Y_test,verbose=0)"
      ],
      "metadata": {
        "id": "rHxJ4R-tHeOI"
      },
      "execution_count": null,
      "outputs": []
    },
    {
      "cell_type": "code",
      "source": [
        "print('Test score:',score[0])\n",
        "print('Test accuracy:',score[1])"
      ],
      "metadata": {
        "colab": {
          "base_uri": "https://localhost:8080/"
        },
        "id": "6IiMQWi_IlO3",
        "outputId": "1d796d8f-4875-46d1-edca-5ac75678171f"
      },
      "execution_count": null,
      "outputs": [
        {
          "output_type": "stream",
          "name": "stdout",
          "text": [
            "Test score: 0.8578662276268005\n",
            "Test accuracy: 0.8439199924468994\n"
          ]
        }
      ]
    },
    {
      "cell_type": "code",
      "source": [
        "history.history.keys()"
      ],
      "metadata": {
        "colab": {
          "base_uri": "https://localhost:8080/"
        },
        "id": "qW5tg7kCM865",
        "outputId": "f0d5a103-fa90-4737-b7fd-b9199b677133"
      },
      "execution_count": null,
      "outputs": [
        {
          "output_type": "execute_result",
          "data": {
            "text/plain": [
              "dict_keys(['loss', 'accuracy', 'val_loss', 'val_accuracy'])"
            ]
          },
          "metadata": {},
          "execution_count": 52
        }
      ]
    },
    {
      "cell_type": "code",
      "source": [
        "history.history['accuracy']"
      ],
      "metadata": {
        "colab": {
          "base_uri": "https://localhost:8080/"
        },
        "id": "n9tG6y92NSTF",
        "outputId": "4bd8e2dc-b26f-4e56-d7e9-98426da8182b"
      },
      "execution_count": null,
      "outputs": [
        {
          "output_type": "execute_result",
          "data": {
            "text/plain": [
              "[0.9799200296401978,\n",
              " 0.9841200113296509,\n",
              " 0.9886400103569031,\n",
              " 0.9792400002479553,\n",
              " 0.9909200072288513,\n",
              " 0.9878000020980835,\n",
              " 0.9853600263595581,\n",
              " 0.9951199889183044,\n",
              " 0.9950799942016602,\n",
              " 0.9771199822425842,\n",
              " 0.9965999722480774,\n",
              " 0.9965199828147888,\n",
              " 0.9914399981498718,\n",
              " 0.9892799854278564,\n",
              " 0.9967600107192993,\n",
              " 0.9968799948692322,\n",
              " 0.9963600039482117,\n",
              " 0.9912400245666504,\n",
              " 0.9950799942016602,\n",
              " 0.9950000047683716]"
            ]
          },
          "metadata": {},
          "execution_count": 53
        }
      ]
    },
    {
      "cell_type": "code",
      "source": [
        "import matplotlib.pyplot as plt\n",
        "plt.plot(history.history['loss'],label='loss')\n",
        "plt.plot(history.history['val_loss'],label='val_loss')\n",
        "plt.legend(loc='best')\n",
        "plt.show()"
      ],
      "metadata": {
        "colab": {
          "base_uri": "https://localhost:8080/",
          "height": 265
        },
        "id": "3SAtNRvEItDz",
        "outputId": "cb829548-4bd3-4067-b8e8-5c9a7c9c0a28"
      },
      "execution_count": null,
      "outputs": [
        {
          "output_type": "display_data",
          "data": {
            "text/plain": [
              "<Figure size 432x288 with 1 Axes>"
            ],
            "image/png": "[encoded data removed]"
          },
          "metadata": {
            "needs_background": "light"
          }
        }
      ]
    },
    {
      "cell_type": "markdown",
      "source": [
        "Upto epoch 9 the val_loss is decreasing on the epoch 10 the val_loss got increased to 5.However, on increasing the epochs the loss futher decreases.As optimizers is used to create the non_convex functions.So lets increase the epoch to 20 (assume)and observe the val_loss and loss.As number of epochs is of hyperparmeter."
      ],
      "metadata": {
        "id": "vyIR3S8od8B1"
      }
    },
    {
      "cell_type": "code",
      "source": [
        "plt.plot(range(1,11),history.history['accuracy'],label='accuracy')\n",
        "plt.plot(range(1,11),history.history['val_accuracy'],label='val_accuracy')\n",
        "plt.legend(loc='best')\n",
        "plt.show()"
      ],
      "metadata": {
        "colab": {
          "base_uri": "https://localhost:8080/",
          "height": 267
        },
        "id": "vIhxZfXBIvv9",
        "outputId": "e1ec454d-1d47-4af5-89e0-c479deecd1f1"
      },
      "execution_count": null,
      "outputs": [
        {
          "output_type": "display_data",
          "data": {
            "text/plain": [
              "<Figure size 432x288 with 1 Axes>"
            ],
            "image/png": "[encoded data removed]"
          },
          "metadata": {
            "needs_background": "light"
          }
        }
      ]
    },
    {
      "cell_type": "markdown",
      "source": [
        "Not so accurate so lets add batch normalization and some droupouts"
      ],
      "metadata": {
        "id": "IntaMss3OzMT"
      }
    },
    {
      "cell_type": "markdown",
      "source": [
        "Dropouts+Batch Normallization+LSTM"
      ],
      "metadata": {
        "id": "U3xyS2ZwO-dO"
      }
    },
    {
      "cell_type": "code",
      "source": [
        "from keras.layers import BatchNormalization\n",
        "model_B=Sequential()\n",
        "model_B.add(Embedding(topwords,embedding_vector_length,input_length=max_review_len))\n",
        "model_B.add(BatchNormalization())\n",
        "model_B.add(LSTM(100))\n",
        "model_B.add(Dense(1,activation='sigmoid'))\n",
        "model_B.summary()"
      ],
      "metadata": {
        "colab": {
          "base_uri": "https://localhost:8080/"
        },
        "id": "mpQlDbI6JDUN",
        "outputId": "57b3c730-64d9-4533-9d1a-df9d5d041663"
      },
      "execution_count": null,
      "outputs": [
        {
          "output_type": "stream",
          "name": "stdout",
          "text": [
            "Model: \"sequential_1\"\n",
            "_________________________________________________________________\n",
            " Layer (type)                Output Shape              Param #   \n",
            "=================================================================\n",
            " embedding_1 (Embedding)     (None, 600, 32)           192000    \n",
            "                                                                 \n",
            " batch_normalization (BatchN  (None, 600, 32)          128       \n",
            " ormalization)                                                   \n",
            "                                                                 \n",
            " lstm_1 (LSTM)               (None, 100)               53200     \n",
            "                                                                 \n",
            " dense_1 (Dense)             (None, 1)                 101       \n",
            "                                                                 \n",
            "=================================================================\n",
            "Total params: 245,429\n",
            "Trainable params: 245,365\n",
            "Non-trainable params: 64\n",
            "_________________________________________________________________\n"
          ]
        }
      ]
    },
    {
      "cell_type": "code",
      "source": [
        "model_B.compile(loss='binary_crossentropy',metrics=['accuracy'],optimizer='adam')"
      ],
      "metadata": {
        "id": "kbfubeexQAWh"
      },
      "execution_count": null,
      "outputs": []
    },
    {
      "cell_type": "code",
      "source": [
        "history=model.fit(X_train,Y_train,epochs=10,steps_per_epoch=128,validation_data=(X_test,Y_test))"
      ],
      "metadata": {
        "colab": {
          "base_uri": "https://localhost:8080/"
        },
        "id": "LctHBVzUQjsn",
        "outputId": "4a296d18-7e53-4f82-e0c4-bc940b89e89e"
      },
      "execution_count": null,
      "outputs": [
        {
          "output_type": "stream",
          "name": "stdout",
          "text": [
            "Epoch 1/10\n",
            "128/128 [==============================] - 12s 92ms/step - loss: 0.0629 - accuracy: 0.9798 - val_loss: 0.5583 - val_accuracy: 0.8576\n",
            "Epoch 2/10\n",
            "128/128 [==============================] - 12s 91ms/step - loss: 0.0421 - accuracy: 0.9882 - val_loss: 0.6533 - val_accuracy: 0.8554\n",
            "Epoch 3/10\n",
            "128/128 [==============================] - 12s 91ms/step - loss: 0.0314 - accuracy: 0.9923 - val_loss: 0.6897 - val_accuracy: 0.8530\n",
            "Epoch 4/10\n",
            "128/128 [==============================] - 12s 91ms/step - loss: 0.0346 - accuracy: 0.9906 - val_loss: 0.7078 - val_accuracy: 0.8561\n",
            "Epoch 5/10\n",
            "128/128 [==============================] - 12s 91ms/step - loss: 0.0275 - accuracy: 0.9934 - val_loss: 0.8371 - val_accuracy: 0.8503\n",
            "Epoch 6/10\n",
            "128/128 [==============================] - 12s 91ms/step - loss: 0.0330 - accuracy: 0.9912 - val_loss: 0.8010 - val_accuracy: 0.8355\n",
            "Epoch 7/10\n",
            "128/128 [==============================] - 12s 91ms/step - loss: 0.0293 - accuracy: 0.9920 - val_loss: 0.7857 - val_accuracy: 0.8548\n",
            "Epoch 8/10\n",
            "128/128 [==============================] - 12s 91ms/step - loss: 0.0143 - accuracy: 0.9970 - val_loss: 0.8106 - val_accuracy: 0.8468\n",
            "Epoch 9/10\n",
            "128/128 [==============================] - 12s 91ms/step - loss: 0.0196 - accuracy: 0.9948 - val_loss: 0.7922 - val_accuracy: 0.8486\n",
            "Epoch 10/10\n",
            "128/128 [==============================] - 12s 92ms/step - loss: 0.0234 - accuracy: 0.9937 - val_loss: 0.7539 - val_accuracy: 0.8441\n"
          ]
        }
      ]
    },
    {
      "cell_type": "code",
      "source": [
        "score=model.evaluate(X_test,Y_test)"
      ],
      "metadata": {
        "colab": {
          "base_uri": "https://localhost:8080/"
        },
        "id": "Zy_xJRYsRgUh",
        "outputId": "b34f419b-743e-4a90-bc48-e0bfd9b71ac1"
      },
      "execution_count": null,
      "outputs": [
        {
          "output_type": "stream",
          "name": "stdout",
          "text": [
            "782/782 [==============================] - 7s 9ms/step - loss: 0.7539 - accuracy: 0.8441\n"
          ]
        }
      ]
    },
    {
      "cell_type": "code",
      "source": [
        "score"
      ],
      "metadata": {
        "colab": {
          "base_uri": "https://localhost:8080/"
        },
        "id": "r2mCa2olb5tg",
        "outputId": "fa473279-832e-4b49-a2f4-bb7894395fb2"
      },
      "execution_count": null,
      "outputs": [
        {
          "output_type": "execute_result",
          "data": {
            "text/plain": [
              "[0.753912627696991, 0.8441200256347656]"
            ]
          },
          "metadata": {},
          "execution_count": 32
        }
      ]
    },
    {
      "cell_type": "code",
      "source": [
        "print(\"Test score:\",score[0])\n",
        "print(\"Test accuracy\",score[1])"
      ],
      "metadata": {
        "colab": {
          "base_uri": "https://localhost:8080/"
        },
        "id": "LFble66JRqf6",
        "outputId": "9229c70f-91cc-4666-be62-90f94cf55ff2"
      },
      "execution_count": null,
      "outputs": [
        {
          "output_type": "stream",
          "name": "stdout",
          "text": [
            "Test score: 0.753912627696991\n",
            "Test accuracy 0.8441200256347656\n"
          ]
        }
      ]
    },
    {
      "cell_type": "code",
      "source": [
        "plt.plot(range(1,11),history.history['accuracy'],label='accuracy')\n",
        "plt.plot(range(1,11),history.history['val_accuracy'],label='val_accuracy')\n",
        "plt.legend(loc='best')\n",
        "plt.show()\n"
      ],
      "metadata": {
        "colab": {
          "base_uri": "https://localhost:8080/",
          "height": 265
        },
        "id": "QndldFtBRziu",
        "outputId": "ec9bbc1e-9aa2-4e99-fe3d-4d3d2f22795e"
      },
      "execution_count": null,
      "outputs": [
        {
          "output_type": "display_data",
          "data": {
            "text/plain": [
              "<Figure size 432x288 with 1 Axes>"
            ],
            "image/png": "[encoded data removed]"
          },
          "metadata": {
            "needs_background": "light"
          }
        }
      ]
    },
    {
      "cell_type": "code",
      "source": [
        "plt.plot(history.history['loss'],label='loss')\n",
        "plt.plot(history.history['val_loss'],label='val_loss')\n",
        "plt.legend(loc='best')\n",
        "plt.show()"
      ],
      "metadata": {
        "colab": {
          "base_uri": "https://localhost:8080/",
          "height": 265
        },
        "id": "14Ci5ar9SPCD",
        "outputId": "0a4887fd-88c9-473e-8604-f2f867fba117"
      },
      "execution_count": null,
      "outputs": [
        {
          "output_type": "display_data",
          "data": {
            "text/plain": [
              "<Figure size 432x288 with 1 Axes>"
            ],
            "image/png": "[encoded data removed]"
          },
          "metadata": {
            "needs_background": "light"
          }
        }
      ]
    },
    {
      "cell_type": "code",
      "source": [
        "plt.plot(history.history['accuracy'],label='accuracy')\n",
        "plt.plot(history.history['val_accuracy'],label='val_accuracy')\n",
        "plt.legend(loc='best')\n",
        "plt.show()"
      ],
      "metadata": {
        "colab": {
          "base_uri": "https://localhost:8080/",
          "height": 265
        },
        "id": "y-omQ-PDSp8B",
        "outputId": "cc75d90e-c06f-4d82-fd0d-5f641ae54432"
      },
      "execution_count": null,
      "outputs": [
        {
          "output_type": "display_data",
          "data": {
            "text/plain": [
              "<Figure size 432x288 with 1 Axes>"
            ],
            "image/png": "[encoded data removed]"
          },
          "metadata": {
            "needs_background": "light"
          }
        }
      ]
    },
    {
      "cell_type": "markdown",
      "source": [
        "As even though they accuracy and val_accuracy look a part but they are providing the best accuracy as the y_scaling is more deep classified it looks like that...."
      ],
      "metadata": {
        "id": "LdIQQBN8dVwF"
      }
    },
    {
      "cell_type": "code",
      "source": [
        "plt.plot(range(1,11),history.history['loss'],label='loss')\n",
        "plt.plot(range(1,11),history.history['val_loss'],label='loss')\n",
        "plt.legend(loc='best')\n",
        "plt.show()"
      ],
      "metadata": {
        "colab": {
          "base_uri": "https://localhost:8080/",
          "height": 265
        },
        "id": "LBMDonvBSxXB",
        "outputId": "cf3e8247-1d02-40a4-eebf-4f197d7b3d61"
      },
      "execution_count": null,
      "outputs": [
        {
          "output_type": "display_data",
          "data": {
            "text/plain": [
              "<Figure size 432x288 with 1 Axes>"
            ],
            "image/png": "[encoded data removed]"
          },
          "metadata": {
            "needs_background": "light"
          }
        }
      ]
    },
    {
      "cell_type": "code",
      "source": [],
      "metadata": {
        "id": "nJIlvczAS8Hh"
      },
      "execution_count": null,
      "outputs": []
    }
  ]
}